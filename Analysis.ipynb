{
 "cells": [
  {
   "cell_type": "code",
   "execution_count": null,
   "id": "8b8e2a06-7d7d-4ac7-b806-687078284072",
   "metadata": {
    "tags": []
   },
   "outputs": [],
   "source": [
    "from IPython.display import HTML\n",
    "\n",
    "HTML(\"\"\"\n",
    "<style>\n",
    "    #notebook-container {\n",
    "    width: 80% !important;\n",
    "}\n",
    ".dataTable {\n",
    "    width: 100% !important;\n",
    "}\n",
    ".dataTables_scrollBody {\n",
    "    width: 100% !important;\n",
    "}\n",
    ".dataTables_scrollHead {\n",
    "    width: 100% !important;\n",
    "}\n",
    ".dataTables_filter {\n",
    "   float: right !important;\n",
    "}\n",
    ".output_html {\n",
    "    max-width: calc(100%) !important;\n",
    "}\n",
    ".rendered{\n",
    "    font-size: 125%;\n",
    "}\n",
    "</style>\n",
    "\"\"\")"
   ]
  },
  {
   "cell_type": "code",
   "execution_count": null,
   "id": "af70d2c7-39b1-4ef5-9728-ce1c552ab52f",
   "metadata": {
    "tags": []
   },
   "outputs": [],
   "source": [
    "html1 = \"\"\"\n",
    "    <img src=\"https://bartable.bart.gov/sites/default/files/styles/body_width_/public/bike%20the%20bridge.jpg\" style=\"margin-left:auto; margin-right:auto\"/>\n",
    "\"\"\"\n",
    "HTML(html1)"
   ]
  },
  {
   "cell_type": "markdown",
   "id": "65a69f7a-6133-499e-a82e-830eff91739a",
   "metadata": {},
   "source": [
    "# GoBike Data Analysis\n",
    "\n",
    "## Goals\n",
    "In this analysis, I aim to uncover any patterns, trends, or insights from a spreadsheet containing 519,000+ rows of data pertaining to bike rentals. The data contains basic information like:\n",
    "* Start & End times\n",
    "* Start & End locations & IDs\n",
    "* Bike IDs\n",
    "* User information - gender, birth year, customer type\n",
    "\n",
    "## Some Questions Worth Answering\n",
    "* Customer demographics\n",
    "    * What age group uses bikes more often?\n",
    "    * Which gender rents more bikes?\n",
    "* Ride statistics\n",
    "    * Average ride length?\n",
    "    * When were the most popular times to rent a bike?\n",
    "* Location demographics\n",
    "    * Do any stations see more traffic?\n",
    "    * What are the least used stations?"
   ]
  },
  {
   "cell_type": "code",
   "execution_count": null,
   "id": "9b42b40a-130a-4274-94e4-180038f8f0b1",
   "metadata": {
    "tags": []
   },
   "outputs": [],
   "source": [
    "#IMPORT TOOLS & LIBRARIES\n",
    "import pandas as pd\n",
    "import numpy as np\n",
    "import seaborn as sns\n",
    "import os\n",
    "import itables\n",
    "from plotly.subplots import make_subplots\n",
    "\n",
    "import func"
   ]
  },
  {
   "cell_type": "markdown",
   "id": "c0691ad5-9566-4337-8c87-2da3a421ecff",
   "metadata": {},
   "source": [
    "# Data Exploration"
   ]
  },
  {
   "cell_type": "code",
   "execution_count": null,
   "id": "00596407-f87e-4eac-ad73-3d69fb36c65f",
   "metadata": {
    "tags": []
   },
   "outputs": [],
   "source": [
    "# #read in data\n",
    "output = pd.read_csv('goBike.csv', chunksize=100000)\n",
    "\n",
    "df = pd.DataFrame()\n",
    "for chunk in output:\n",
    "    df = pd.concat([df, chunk])\n",
    "    \n",
    "df.head()"
   ]
  },
  {
   "cell_type": "code",
   "execution_count": null,
   "id": "691665a0-0516-4e31-af93-2f6e55d70a46",
   "metadata": {
    "tags": []
   },
   "outputs": [],
   "source": [
    "df.info()"
   ]
  },
  {
   "cell_type": "code",
   "execution_count": null,
   "id": "4f549191-f775-4705-bf77-fd823f203204",
   "metadata": {
    "tags": []
   },
   "outputs": [],
   "source": [
    "df.describe()"
   ]
  },
  {
   "cell_type": "code",
   "execution_count": null,
   "id": "86574949-b767-4c8b-9094-c10cf2ff1cdd",
   "metadata": {
    "tags": []
   },
   "outputs": [],
   "source": [
    "df.groupby(['member_gender']).size()"
   ]
  },
  {
   "cell_type": "markdown",
   "id": "b6668d65-ba3b-40af-a0c9-3e4c92ecd35b",
   "metadata": {},
   "source": [
    "### Observations\n",
    "* **Duration**: The average bike ride was ~1100 seconds, or just over 18 minutes\n",
    "* **Birth Year**: The average birth year is 1980, and 75% of customers were born before 1988\n",
    "    * Outliers: The oldest birth year is reported as 1886 - user error?\n",
    "* **Gender**: There are about 3.5x as many males as there are females/others\n",
    "\n",
    "### Checking for Missing Data\n",
    "As we can see below, two columns are missing ~12.8% of the data. For simplicity's sake, I removed these entries."
   ]
  },
  {
   "cell_type": "code",
   "execution_count": null,
   "id": "f619a892-c148-4400-abcb-1e09685cb51f",
   "metadata": {
    "tags": []
   },
   "outputs": [],
   "source": [
    "df['start_time'] = pd.to_datetime(df['start_time'])\n",
    "df['end_time'] = pd.to_datetime(df['end_time'])\n",
    "func.calc_missing(df)"
   ]
  },
  {
   "cell_type": "code",
   "execution_count": null,
   "id": "90b47592-f068-4d95-b2fc-b887d3b7b038",
   "metadata": {},
   "outputs": [],
   "source": [
    "# drops all rows that have at least one NaN\n",
    "df.dropna(inplace=True)"
   ]
  },
  {
   "cell_type": "markdown",
   "id": "83f00c8d-75b9-4c9c-bb1e-21b8fdb578b4",
   "metadata": {
    "tags": []
   },
   "source": [
    "## Customer Demographics\n",
    "### Single-Time Users vs. GoBike Subscribers"
   ]
  },
  {
   "cell_type": "code",
   "execution_count": null,
   "id": "021019d8-7b76-4fad-8e3c-3d4703f32ad8",
   "metadata": {
    "tags": []
   },
   "outputs": [],
   "source": [
    "dfu = df.groupby(['user_type', 'member_gender']).size().unstack().reset_index()\n",
    "dfu = dfu.iloc[:,[0,2,1,3]]\n",
    "title = \"Customer vs. Subscriber Gender Distribution\"\n",
    "sub = \"There are far more male subscribers than any other group\"\n",
    "func.plot_gender_dist(dfu, title, sub)"
   ]
  },
  {
   "cell_type": "markdown",
   "id": "aee1c557-4677-44ba-825e-5c8ad5836471",
   "metadata": {
    "tags": []
   },
   "source": [
    "### Age & Gender Distribution"
   ]
  },
  {
   "cell_type": "code",
   "execution_count": null,
   "id": "6d9c4d48-0b07-4662-919b-54b614658406",
   "metadata": {
    "tags": []
   },
   "outputs": [],
   "source": [
    "df['member_age'] = df['start_time'].dt.year - df['member_birth_year']\n",
    "df = df[df['member_age'] <= 100] # removes outliers\n",
    "df[\"age_group\"] = pd.cut(x=df['member_age'],\n",
    "                         bins=[18,25,35,45,55,65,75,85,95,130], \n",
    "                         labels=[\"18-24\",\"25-34\",\"35-44\",\"45-54\",\"55-64\",\"65-74\",\"74-84\",\"85-94\",\"95+\"])\n",
    "dfa = df[['member_gender', 'age_group']]\n",
    "\n",
    "title = \"User Age & Gender Distribution\"\n",
    "sub = \"Males getween the ages of 25-44 make up the overwhelming majority of users\"\n",
    "func.plot_gender_age(dfa, title, sub)"
   ]
  },
  {
   "cell_type": "markdown",
   "id": "9e3b7535-8b7e-4119-a230-873088f59624",
   "metadata": {},
   "source": [
    "### Age & Gender vs. Ride Duration"
   ]
  },
  {
   "cell_type": "code",
   "execution_count": null,
   "id": "9b344d22-44d7-4b31-b87b-e63af7a903fa",
   "metadata": {
    "tags": []
   },
   "outputs": [],
   "source": [
    "df = df[df['member_age'] <= 100] # removes outlier\n",
    "df['duration_minute'] = df['duration_sec'] // 60 # calculate ride minutes\n",
    "\n",
    "# aggregates mean and count by member_age\n",
    "dfr = (df.groupby(['member_gender', 'member_age'])\n",
    "       .agg(avg_duration=('duration_minute', np.mean),\n",
    "           num_riders=('member_age', np.size))\n",
    "        .reset_index())\n",
    "\n",
    "title = \"Age & Gender vs. Ride Duration\"\n",
    "sub = \"Women tend to ride bikes longer than men across most age groups\"\n",
    "func.plot_gender_dur(dfr, title, sub)"
   ]
  },
  {
   "cell_type": "markdown",
   "id": "a5c67bf9-ff84-488a-a466-b4c2d0be010a",
   "metadata": {},
   "source": [
    "### Observations\n",
    "* Men between 25-44 are the main customers\n",
    "* People between 30s-50s tend ride for 12-15 minutes - commuting to/from work?\n",
    "* Women tend to have longer ride durations compared to men\n",
    "* Younger folk and seniors have more varied ride durations - less commitments, more free time, etc.\n",
    "\n",
    "## Date & Time\n",
    "### Rides by Month/Time"
   ]
  },
  {
   "cell_type": "code",
   "execution_count": null,
   "id": "ec0ff7b3-2245-419a-a168-e49c1b2da909",
   "metadata": {
    "tags": []
   },
   "outputs": [],
   "source": [
    "print(f'Earliest date: {df[\"start_time\"].min()}')\n",
    "print(f'  Latest date: {df[\"start_time\"].max()}')"
   ]
  },
  {
   "cell_type": "markdown",
   "id": "39d18b2c-171c-4109-bcd6-709cbd280381",
   "metadata": {},
   "source": [
    "After grouping data by the hour, I decided to bin the hours like so:\n",
    "* Early Morning: 3:00 - 5:59am\n",
    "* Morning: 6:00 - 11:59am\n",
    "* Afternoon: 12:00pm - 4:59pm\n",
    "* Evening: 5:00 - 8:59pm\n",
    "* Night: 9:00 - 11:59pm\n",
    "* Late Night: 12:00am - 2:59am"
   ]
  },
  {
   "cell_type": "code",
   "execution_count": null,
   "id": "dc608d65-6ae9-4a04-9eab-65ac982259e4",
   "metadata": {
    "tags": []
   },
   "outputs": [],
   "source": [
    "dfp = (df.groupby([df['start_time'].dt.month, df['start_time'].dt.hour])['duration_sec'].count()\n",
    "           .unstack(0)\n",
    "           .fillna(0)\n",
    "           .T) \n",
    "title = \"Total Amounts of Rides by Month\"\n",
    "sub = \"As temperatures cool down, the number of rides increases - until winter\"\n",
    "func.plot_month(dfp, title, sub)"
   ]
  },
  {
   "cell_type": "markdown",
   "id": "eee97083-c838-43b7-9b14-694c8b0c9cba",
   "metadata": {},
   "source": [
    "### Observations\n",
    "* Fall seems to be the most popular time to rent bikes - temperatures cool down, but not too chilly yet\n",
    "* Mornings and evenings see the most rentals for each month - probably due to commute?\n",
    "* Very few night/late night rentals - weather & safety concerns?\n",
    "\n",
    "## Location Statistics\n",
    "### Most Used Stations"
   ]
  },
  {
   "cell_type": "code",
   "execution_count": null,
   "id": "25d67a1c-d313-43ac-8043-04805289d57d",
   "metadata": {
    "tags": []
   },
   "outputs": [],
   "source": [
    "sub = df[['start_station_latitude', 'start_station_longitude', \n",
    "          'end_station_latitude', 'end_station_longitude', \n",
    "          'start_station_name', 'end_station_name']]\n",
    "dfs = func.comb_stations(sub)\n",
    "title = \"Map of Most Used Bike Stations\"\n",
    "sub = \"Stations closer to the water or BART stations were more popular\"\n",
    "func.plot_stations(dfs, title, sub)"
   ]
  },
  {
   "cell_type": "markdown",
   "id": "55c845eb-c50c-4e15-9ed1-a2bfde59f54b",
   "metadata": {},
   "source": [
    "### Most Common Pairs of Start-End Stations"
   ]
  },
  {
   "cell_type": "code",
   "execution_count": null,
   "id": "23170b27-5e56-4992-b726-a1550670b7c1",
   "metadata": {
    "tags": []
   },
   "outputs": [],
   "source": [
    "dfl = (df.groupby(['start_station_name', 'end_station_name'])\n",
    "       .size()\n",
    "       .to_frame(name='Count')\n",
    "       .sort_values('Count', ascending=False)\n",
    "       .reset_index()\n",
    "       .iloc[:20,:]\n",
    "      )\n",
    "\n",
    "title = \"Most Common Start-End Pairs\"\n",
    "sub = \"The Ferry Building to The Embarcadero is a path along the water\"\n",
    "func.plot_station_pairs(dfl, title, sub)"
   ]
  },
  {
   "cell_type": "markdown",
   "id": "c83819c0-3f4b-419b-9c96-989b2ea0712b",
   "metadata": {},
   "source": [
    "### Observations\n",
    "* Most of the traffic is in San Francisco - Market Street\n",
    "    * More rentals took place near BART stations, and the water - tourism?\n",
    "    * Ferry Building -> The Embarcadero\n",
    "* Oakland saw significantly less rentals - maybe due to locals and less tourists?\n",
    "\n",
    "# Summary\n",
    "* People between 25-44 tend to rent bikes more often, but ride them for shorter durations.\n",
    "* People outside that age range tend to rent bikes less often, but ride them for longer durations.\n",
    "* Women typically ride bikes for longer durations compared to men.\n",
    "* Mornings and evenings see the most rentals, probably due to people's work commutes.\n",
    "* More bike rentals occur as summer becomes fall, but slowly drop as fall becomes winter.\n",
    "* The bike stations closer to major points of interest (BART stations, popular tourist areas) see more rentals.\n",
    "\n",
    "# Possible Next Steps\n",
    "* Further explore relationship between gender, age, and duration\n",
    "    * More granular analysis? Breakdown by weekday?\n",
    "* Pull in weather data and see if correlation exists between rentals\n",
    "* Analyze start-end paths for genders?"
   ]
  }
 ],
 "metadata": {
  "kernelspec": {
   "display_name": "Python 3 (ipykernel)",
   "language": "python",
   "name": "python3"
  },
  "language_info": {
   "codemirror_mode": {
    "name": "ipython",
    "version": 3
   },
   "file_extension": ".py",
   "mimetype": "text/x-python",
   "name": "python",
   "nbconvert_exporter": "python",
   "pygments_lexer": "ipython3",
   "version": "3.10.2"
  },
  "widgets": {
   "application/vnd.jupyter.widget-state+json": {
    "state": {},
    "version_major": 2,
    "version_minor": 0
   }
  }
 },
 "nbformat": 4,
 "nbformat_minor": 5
}
